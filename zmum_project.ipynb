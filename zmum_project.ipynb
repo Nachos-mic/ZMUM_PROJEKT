{
  "cells": [
    {
      "cell_type": "markdown",
      "id": "8c034733",
      "metadata": {
        "id": "8c034733"
      },
      "source": [
        "#[UCI Heart Disease Data](https://www.kaggle.com/datasets/redwankarimsony/heart-disease-data)(Kaggle) - klasyfikacja choroby serca\n",
        "\n"
      ]
    },
    {
      "cell_type": "code",
      "source": [
        "import kagglehub\n",
        "import os\n",
        "import pandas as pd\n",
        "\n",
        "path = kagglehub.dataset_download(\"redwankarimsony/heart-disease-data\")\n",
        "\n",
        "print(\"Path to dataset files:\", path)\n",
        "print(os.listdir(path))\n",
        "\n",
        "df = pd.read_csv(os.path.join(path, \"heart_disease_uci.csv\"))\n"
      ],
      "metadata": {
        "colab": {
          "base_uri": "https://localhost:8080/"
        },
        "id": "ykYFu67YoMmi",
        "outputId": "2769eb7e-3ddd-439a-c0c3-5065a6eb3f08"
      },
      "id": "ykYFu67YoMmi",
      "execution_count": null,
      "outputs": [
        {
          "output_type": "stream",
          "name": "stdout",
          "text": [
            "Using Colab cache for faster access to the 'heart-disease-data' dataset.\n",
            "Path to dataset files: /kaggle/input/heart-disease-data\n",
            "['heart_disease_uci.csv']\n"
          ]
        }
      ]
    },
    {
      "cell_type": "code",
      "source": [
        "df.info()"
      ],
      "metadata": {
        "id": "e0klbvXUqNp7",
        "outputId": "6449c4ee-bd4d-4c99-b196-5dc55e131344",
        "colab": {
          "base_uri": "https://localhost:8080/"
        }
      },
      "id": "e0klbvXUqNp7",
      "execution_count": null,
      "outputs": [
        {
          "output_type": "stream",
          "name": "stdout",
          "text": [
            "<class 'pandas.core.frame.DataFrame'>\n",
            "RangeIndex: 920 entries, 0 to 919\n",
            "Data columns (total 16 columns):\n",
            " #   Column    Non-Null Count  Dtype  \n",
            "---  ------    --------------  -----  \n",
            " 0   id        920 non-null    int64  \n",
            " 1   age       920 non-null    int64  \n",
            " 2   sex       920 non-null    object \n",
            " 3   dataset   920 non-null    object \n",
            " 4   cp        920 non-null    object \n",
            " 5   trestbps  861 non-null    float64\n",
            " 6   chol      890 non-null    float64\n",
            " 7   fbs       830 non-null    object \n",
            " 8   restecg   918 non-null    object \n",
            " 9   thalch    865 non-null    float64\n",
            " 10  exang     865 non-null    object \n",
            " 11  oldpeak   858 non-null    float64\n",
            " 12  slope     611 non-null    object \n",
            " 13  ca        309 non-null    float64\n",
            " 14  thal      434 non-null    object \n",
            " 15  num       920 non-null    int64  \n",
            "dtypes: float64(5), int64(3), object(8)\n",
            "memory usage: 115.1+ KB\n"
          ]
        }
      ]
    },
    {
      "cell_type": "markdown",
      "source": [
        "#Wymiary\n",
        "Rekordy: 920\n",
        "Kolumny: 16 cech\n",
        "\n",
        "#Opis cech:\n",
        "\n",
        "###Numeryczne (int64 / float64): 8 kolumn\n",
        "\n",
        "id – unikalny identyfikator pacjenta\n",
        "\n",
        "age – wiek pacjenta\n",
        "\n",
        "trestbps – ciśnienie krwi w spoczynku\n",
        "\n",
        "chol – cholesterol w mg/dl\n",
        "\n",
        "thalach – maksymalne tętno osiągnięte\n",
        "\n",
        "oldpeak – ST depression wywołane wysiłkiem\n",
        "\n",
        "ca – liczba naczyń głównych pokolorowanych fluoroskopowo\n",
        "\n",
        "num – przewidywana etykieta choroby serca\n",
        "\n",
        "\n",
        "###Kategoryczne / obiektowe (object): 8 kolumn\n",
        "\n",
        "sex – płeć\n",
        "\n",
        "dataset – pochodzenie badania\n",
        "\n",
        "cp – typ bólu w klatce piersiowej\n",
        "\n",
        "fbs – cukier na czczo > 120 mg/dl (True/False)\n",
        "\n",
        "restecg – wynik EKG w spoczynku\n",
        "\n",
        "exang – dławica wywołana wysiłkiem\n",
        "\n",
        "slope – nachylenie ST segment\n",
        "\n",
        "thal – typ defektu (normal, fixed defect, reversible defect)\n",
        "\n",
        "\n",
        "###Brakujące dane\n",
        "\n",
        "trestbps – 861/920 → ok. 6.4% braków\n",
        "\n",
        "chol – 890/920 → ok. 3.3% braków\n",
        "\n",
        "fbs – 830/920 → ok. 9.8% braków\n",
        "\n",
        "slope – 611/920 → ok. 33.5% braków\n",
        "\n",
        "ca – 309/920 → ok. 66.4% braków\n",
        "\n",
        "thal – 434/920 → ok. 52.8% braków"
      ],
      "metadata": {
        "id": "kp3MmzA5qtyE"
      },
      "id": "kp3MmzA5qtyE"
    },
    {
      "cell_type": "code",
      "source": [
        "# Liczba rekordów i kolumn\n",
        "n_rows, n_cols = df.shape\n",
        "print(f\"\\nLiczba rekordów: {n_rows}\")\n",
        "print(f\"Liczba cech (kolumn): {n_cols}\")\n",
        "\n",
        "# Przykładowe dane\n",
        "print(\"\\n--- Przykładowe wiersze ---\")\n",
        "print(df.head())\n",
        "\n",
        "# Statystyki opisowe\n",
        "print(\"\\n--- Statystyki opisowe ---\")\n",
        "print(df.describe())\n"
      ],
      "metadata": {
        "id": "-rBJXAMoq5lz",
        "outputId": "45ee2a3e-607d-46e4-a46b-3b1ceb324d75",
        "colab": {
          "base_uri": "https://localhost:8080/"
        }
      },
      "id": "-rBJXAMoq5lz",
      "execution_count": 12,
      "outputs": [
        {
          "output_type": "stream",
          "name": "stdout",
          "text": [
            "\n",
            "Liczba rekordów: 920\n",
            "Liczba cech (kolumn): 16\n",
            "\n",
            "--- Przykładowe wiersze ---\n",
            "   id  age     sex    dataset               cp  trestbps   chol    fbs  \\\n",
            "0   1   63    Male  Cleveland   typical angina     145.0  233.0   True   \n",
            "1   2   67    Male  Cleveland     asymptomatic     160.0  286.0  False   \n",
            "2   3   67    Male  Cleveland     asymptomatic     120.0  229.0  False   \n",
            "3   4   37    Male  Cleveland      non-anginal     130.0  250.0  False   \n",
            "4   5   41  Female  Cleveland  atypical angina     130.0  204.0  False   \n",
            "\n",
            "          restecg  thalch  exang  oldpeak        slope   ca  \\\n",
            "0  lv hypertrophy   150.0  False      2.3  downsloping  0.0   \n",
            "1  lv hypertrophy   108.0   True      1.5         flat  3.0   \n",
            "2  lv hypertrophy   129.0   True      2.6         flat  2.0   \n",
            "3          normal   187.0  False      3.5  downsloping  0.0   \n",
            "4  lv hypertrophy   172.0  False      1.4    upsloping  0.0   \n",
            "\n",
            "                thal  num  \n",
            "0       fixed defect    0  \n",
            "1             normal    2  \n",
            "2  reversable defect    1  \n",
            "3             normal    0  \n",
            "4             normal    0  \n",
            "\n",
            "--- Statystyki opisowe ---\n",
            "               id         age    trestbps        chol      thalch     oldpeak  \\\n",
            "count  920.000000  920.000000  861.000000  890.000000  865.000000  858.000000   \n",
            "mean   460.500000   53.510870  132.132404  199.130337  137.545665    0.878788   \n",
            "std    265.725422    9.424685   19.066070  110.780810   25.926276    1.091226   \n",
            "min      1.000000   28.000000    0.000000    0.000000   60.000000   -2.600000   \n",
            "25%    230.750000   47.000000  120.000000  175.000000  120.000000    0.000000   \n",
            "50%    460.500000   54.000000  130.000000  223.000000  140.000000    0.500000   \n",
            "75%    690.250000   60.000000  140.000000  268.000000  157.000000    1.500000   \n",
            "max    920.000000   77.000000  200.000000  603.000000  202.000000    6.200000   \n",
            "\n",
            "               ca         num  \n",
            "count  309.000000  920.000000  \n",
            "mean     0.676375    0.995652  \n",
            "std      0.935653    1.142693  \n",
            "min      0.000000    0.000000  \n",
            "25%      0.000000    0.000000  \n",
            "50%      0.000000    1.000000  \n",
            "75%      1.000000    2.000000  \n",
            "max      3.000000    4.000000  \n"
          ]
        }
      ]
    }
  ],
  "metadata": {
    "language_info": {
      "name": "python"
    },
    "colab": {
      "provenance": []
    },
    "kernelspec": {
      "name": "python3",
      "display_name": "Python 3"
    }
  },
  "nbformat": 4,
  "nbformat_minor": 5
}