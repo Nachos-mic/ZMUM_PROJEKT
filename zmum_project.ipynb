{
 "cells": [
  {
   "cell_type": "markdown",
   "id": "8c034733",
   "metadata": {},
   "source": [
    "#Projekt\n"
   ]
  }
 ],
 "metadata": {
  "language_info": {
   "name": "python"
  }
 },
 "nbformat": 4,
 "nbformat_minor": 5
}
