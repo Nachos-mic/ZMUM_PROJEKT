{
  "cells": [
    {
      "cell_type": "markdown",
      "id": "8c034733",
      "metadata": {
        "id": "8c034733"
      },
      "source": [
        "#Projekt\n"
      ]
    },
    {
      "cell_type": "code",
      "source": [
        "!pip install opendatasets\n",
        "\n",
        "import opendatasets as od\n",
        "\n",
        "od.download('https://www.kaggle.com/datasets/redwankarimsony/heart-disease-data')"
      ],
      "metadata": {
        "id": "2cy6JTP5mD3K"
      },
      "id": "2cy6JTP5mD3K",
      "execution_count": null,
      "outputs": []
    }
  ],
  "metadata": {
    "language_info": {
      "name": "python"
    },
    "colab": {
      "provenance": []
    },
    "kernelspec": {
      "name": "python3",
      "display_name": "Python 3"
    }
  },
  "nbformat": 4,
  "nbformat_minor": 5
}