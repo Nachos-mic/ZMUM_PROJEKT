{
  "cells": [
    {
      "cell_type": "markdown",
      "id": "8c034733",
      "metadata": {
        "id": "8c034733"
      },
      "source": [
        "#[UCI Heart Disease Data](https://www.kaggle.com/datasets/redwankarimsony/heart-disease-data)(Kaggle) - klasyfikacja choroby serca\n",
        "\n"
      ]
    },
    {
      "cell_type": "code",
      "source": [
        "import kagglehub\n",
        "import os\n",
        "import pandas as pd\n",
        "\n",
        "path = kagglehub.dataset_download(\"redwankarimsony/heart-disease-data\")\n",
        "\n",
        "print(\"Path to dataset files:\", path)\n",
        "print(os.listdir(path))\n",
        "\n",
        "df = pd.read_csv(os.path.join(path, \"heart_disease_uci.csv\"))\n"
      ],
      "metadata": {
        "colab": {
          "base_uri": "https://localhost:8080/"
        },
        "id": "ykYFu67YoMmi",
        "outputId": "2769eb7e-3ddd-439a-c0c3-5065a6eb3f08"
      },
      "id": "ykYFu67YoMmi",
      "execution_count": 7,
      "outputs": [
        {
          "output_type": "stream",
          "name": "stdout",
          "text": [
            "Using Colab cache for faster access to the 'heart-disease-data' dataset.\n",
            "Path to dataset files: /kaggle/input/heart-disease-data\n",
            "['heart_disease_uci.csv']\n"
          ]
        }
      ]
    },
    {
      "cell_type": "code",
      "source": [
        "df.info()"
      ],
      "metadata": {
        "id": "e0klbvXUqNp7",
        "outputId": "6449c4ee-bd4d-4c99-b196-5dc55e131344",
        "colab": {
          "base_uri": "https://localhost:8080/"
        }
      },
      "id": "e0klbvXUqNp7",
      "execution_count": 10,
      "outputs": [
        {
          "output_type": "stream",
          "name": "stdout",
          "text": [
            "<class 'pandas.core.frame.DataFrame'>\n",
            "RangeIndex: 920 entries, 0 to 919\n",
            "Data columns (total 16 columns):\n",
            " #   Column    Non-Null Count  Dtype  \n",
            "---  ------    --------------  -----  \n",
            " 0   id        920 non-null    int64  \n",
            " 1   age       920 non-null    int64  \n",
            " 2   sex       920 non-null    object \n",
            " 3   dataset   920 non-null    object \n",
            " 4   cp        920 non-null    object \n",
            " 5   trestbps  861 non-null    float64\n",
            " 6   chol      890 non-null    float64\n",
            " 7   fbs       830 non-null    object \n",
            " 8   restecg   918 non-null    object \n",
            " 9   thalch    865 non-null    float64\n",
            " 10  exang     865 non-null    object \n",
            " 11  oldpeak   858 non-null    float64\n",
            " 12  slope     611 non-null    object \n",
            " 13  ca        309 non-null    float64\n",
            " 14  thal      434 non-null    object \n",
            " 15  num       920 non-null    int64  \n",
            "dtypes: float64(5), int64(3), object(8)\n",
            "memory usage: 115.1+ KB\n"
          ]
        }
      ]
    },
    {
      "cell_type": "markdown",
      "source": [
        "#Wymiary\n",
        "Rekordy: 920\n",
        "Kolumny: 16 cech\n",
        "\n",
        "#Opis cech:\n",
        "\n",
        "###Numeryczne (int64 / float64): 8 kolumn\n",
        "\n",
        "id – unikalny identyfikator pacjenta\n",
        "\n",
        "age – wiek pacjenta\n",
        "\n",
        "trestbps – ciśnienie krwi w spoczynku\n",
        "\n",
        "chol – cholesterol w mg/dl\n",
        "\n",
        "thalach – maksymalne tętno osiągnięte\n",
        "\n",
        "oldpeak – ST depression wywołane wysiłkiem\n",
        "\n",
        "ca – liczba naczyń głównych pokolorowanych fluoroskopowo\n",
        "\n",
        "num – przewidywana etykieta choroby serca\n",
        "\n",
        "\n",
        "###Kategoryczne / obiektowe (object): 8 kolumn\n",
        "\n",
        "sex – płeć\n",
        "\n",
        "dataset – pochodzenie badania\n",
        "\n",
        "cp – typ bólu w klatce piersiowej\n",
        "\n",
        "fbs – cukier na czczo > 120 mg/dl (True/False)\n",
        "\n",
        "restecg – wynik EKG w spoczynku\n",
        "\n",
        "exang – dławica wywołana wysiłkiem\n",
        "\n",
        "slope – nachylenie ST segment\n",
        "\n",
        "thal – typ defektu (normal, fixed defect, reversible defect)\n",
        "\n",
        "\n",
        "###Brakujące dane\n",
        "\n",
        "trestbps – 861/920 → ok. 6.4% braków\n",
        "\n",
        "chol – 890/920 → ok. 3.3% braków\n",
        "\n",
        "fbs – 830/920 → ok. 9.8% braków\n",
        "\n",
        "slope – 611/920 → ok. 33.5% braków\n",
        "\n",
        "ca – 309/920 → ok. 66.4% braków\n",
        "\n",
        "thal – 434/920 → ok. 52.8% braków"
      ],
      "metadata": {
        "id": "kp3MmzA5qtyE"
      },
      "id": "kp3MmzA5qtyE"
    },
    {
      "cell_type": "code",
      "source": [],
      "metadata": {
        "id": "-rBJXAMoq5lz"
      },
      "id": "-rBJXAMoq5lz",
      "execution_count": 10,
      "outputs": []
    }
  ],
  "metadata": {
    "language_info": {
      "name": "python"
    },
    "colab": {
      "provenance": []
    },
    "kernelspec": {
      "name": "python3",
      "display_name": "Python 3"
    }
  },
  "nbformat": 4,
  "nbformat_minor": 5
}